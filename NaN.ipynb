{
 "cells": [
  {
   "cell_type": "code",
   "execution_count": 1,
   "metadata": {},
   "outputs": [],
   "source": [
    "import os\n",
    "import pandas as pd\n",
    "from flask import Flask, render_template, jsonify\n",
    "import sqlalchemy\n",
    "from sqlalchemy import create_engine\n",
    "import pymysql"
   ]
  },
  {
   "cell_type": "code",
   "execution_count": 2,
   "metadata": {},
   "outputs": [],
   "source": [
    "app = Flask(__name__)"
   ]
  },
  {
   "cell_type": "code",
   "execution_count": 12,
   "metadata": {},
   "outputs": [],
   "source": [
    "# Heroku check\n",
    "is_heroku = False\n",
    "if 'IS_HEROKU' in os.environ:\n",
    "    is_heroku = True\n",
    "\n",
    "# Import your config file(s) and variable(s)\n",
    "if is_heroku == False:\n",
    "    from config import host, port, username, password, database \n",
    "else:\n",
    "    host = os.environ.get('host')\n",
    "    port = os.environ.get('port')\n",
    "    username = os.environ.get('username')\n",
    "    password = os.environ.get('password')\n",
    "    database = os.environ.get('database')\n",
    "\n",
    "engine = create_engine(f'mysql://{username}:{password}@{host}:{port}/{database}')\n",
    "    \n",
    "pymysql.install_as_MySQLdb()"
   ]
  },
  {
   "cell_type": "code",
   "execution_count": 13,
   "metadata": {},
   "outputs": [],
   "source": [
    "conn = engine.connect()\n",
    "\n",
    "query = '''\n",
    "    SELECT * FROM monthly_delays\n",
    "'''\n",
    "\n",
    "results_df = pd.read_sql(query, con=conn)\n",
    "\n",
    "conn.close()"
   ]
  },
  {
   "cell_type": "code",
   "execution_count": 14,
   "metadata": {},
   "outputs": [
    {
     "data": {
      "text/html": [
       "<div>\n",
       "<style scoped>\n",
       "    .dataframe tbody tr th:only-of-type {\n",
       "        vertical-align: middle;\n",
       "    }\n",
       "\n",
       "    .dataframe tbody tr th {\n",
       "        vertical-align: top;\n",
       "    }\n",
       "\n",
       "    .dataframe thead th {\n",
       "        text-align: right;\n",
       "    }\n",
       "</style>\n",
       "<table border=\"1\" class=\"dataframe\">\n",
       "  <thead>\n",
       "    <tr style=\"text-align: right;\">\n",
       "      <th></th>\n",
       "      <th>month_name</th>\n",
       "      <th>airline_name</th>\n",
       "      <th>average_delay</th>\n",
       "    </tr>\n",
       "  </thead>\n",
       "  <tbody>\n",
       "    <tr>\n",
       "      <td>0</td>\n",
       "      <td>January</td>\n",
       "      <td>Qantas</td>\n",
       "      <td>16.733333</td>\n",
       "    </tr>\n",
       "    <tr>\n",
       "      <td>1</td>\n",
       "      <td>January</td>\n",
       "      <td>Fiji Airways</td>\n",
       "      <td>21.764706</td>\n",
       "    </tr>\n",
       "    <tr>\n",
       "      <td>2</td>\n",
       "      <td>January</td>\n",
       "      <td>KLM</td>\n",
       "      <td>15.360000</td>\n",
       "    </tr>\n",
       "    <tr>\n",
       "      <td>3</td>\n",
       "      <td>January</td>\n",
       "      <td>TAP Air Portugal</td>\n",
       "      <td>35.455446</td>\n",
       "    </tr>\n",
       "    <tr>\n",
       "      <td>4</td>\n",
       "      <td>January</td>\n",
       "      <td>UIA</td>\n",
       "      <td>27.769231</td>\n",
       "    </tr>\n",
       "    <tr>\n",
       "      <td>...</td>\n",
       "      <td>...</td>\n",
       "      <td>...</td>\n",
       "      <td>...</td>\n",
       "    </tr>\n",
       "    <tr>\n",
       "      <td>2090</td>\n",
       "      <td>July</td>\n",
       "      <td>AeroLogic</td>\n",
       "      <td>NaN</td>\n",
       "    </tr>\n",
       "    <tr>\n",
       "      <td>2091</td>\n",
       "      <td>July</td>\n",
       "      <td>National Airlines</td>\n",
       "      <td>NaN</td>\n",
       "    </tr>\n",
       "    <tr>\n",
       "      <td>2092</td>\n",
       "      <td>July</td>\n",
       "      <td>Martinair</td>\n",
       "      <td>NaN</td>\n",
       "    </tr>\n",
       "    <tr>\n",
       "      <td>2093</td>\n",
       "      <td>July</td>\n",
       "      <td>Air Atlanta Icelandic</td>\n",
       "      <td>NaN</td>\n",
       "    </tr>\n",
       "    <tr>\n",
       "      <td>2094</td>\n",
       "      <td>July</td>\n",
       "      <td>Phoenix Air Group</td>\n",
       "      <td>NaN</td>\n",
       "    </tr>\n",
       "  </tbody>\n",
       "</table>\n",
       "<p>2095 rows × 3 columns</p>\n",
       "</div>"
      ],
      "text/plain": [
       "     month_name           airline_name  average_delay\n",
       "0       January                 Qantas      16.733333\n",
       "1       January           Fiji Airways      21.764706\n",
       "2       January                    KLM      15.360000\n",
       "3       January       TAP Air Portugal      35.455446\n",
       "4       January                    UIA      27.769231\n",
       "...         ...                    ...            ...\n",
       "2090       July              AeroLogic            NaN\n",
       "2091       July      National Airlines            NaN\n",
       "2092       July              Martinair            NaN\n",
       "2093       July  Air Atlanta Icelandic            NaN\n",
       "2094       July      Phoenix Air Group            NaN\n",
       "\n",
       "[2095 rows x 3 columns]"
      ]
     },
     "execution_count": 14,
     "metadata": {},
     "output_type": "execute_result"
    }
   ],
   "source": [
    "results_df"
   ]
  },
  {
   "cell_type": "code",
   "execution_count": 3,
   "metadata": {},
   "outputs": [],
   "source": [
    "@app.route('/api/data/monthly_delays')\n",
    "def monthly_delays():\n",
    "    conn = engine.connect()\n",
    "    \n",
    "    query = '''\n",
    "\t    SELECT * FROM monthly_delays\n",
    "    '''\n",
    "    \n",
    "    results_df = pd.read_sql(query, con=conn)\n",
    "    results_json = results_df.to_json(orient='records')\n",
    "\n",
    "    conn.close()\n",
    "\n",
    "    return results_json"
   ]
  },
  {
   "cell_type": "code",
   "execution_count": null,
   "metadata": {},
   "outputs": [],
   "source": [
    "@app.route('/api/data/airline_cancellations')\n",
    "def monthly_delays():\n",
    "    conn = engine.connect()\n",
    "    \n",
    "    query = '''\n",
    "\t    SELECT * FROM cancellations_by_airline\n",
    "    '''\n",
    "    \n",
    "    results_df = pd.read_sql(query, con=conn)\n",
    "    results_json = results_df.to_json(orient='records')\n",
    "\n",
    "    conn.close()\n",
    "\n",
    "    return results_json"
   ]
  },
  {
   "cell_type": "code",
   "execution_count": null,
   "metadata": {},
   "outputs": [],
   "source": [
    "@app.route('/api/data/airport_cancellations')\n",
    "def monthly_delays():\n",
    "    conn = engine.connect()\n",
    "    \n",
    "    query = '''\n",
    "\t    SELECT * FROM cancellations_by_airport\n",
    "    '''\n",
    "    \n",
    "    results_df = pd.read_sql(query, con=conn)\n",
    "    results_json = results_df.to_json(orient='records')\n",
    "\n",
    "    conn.close()\n",
    "\n",
    "    return results_json"
   ]
  },
  {
   "cell_type": "code",
   "execution_count": 6,
   "metadata": {},
   "outputs": [
    {
     "name": "stdout",
     "output_type": "stream",
     "text": [
      " * Serving Flask app \"__main__\" (lazy loading)\n",
      " * Environment: production\n",
      "   WARNING: This is a development server. Do not use it in a production deployment.\n",
      "   Use a production WSGI server instead.\n",
      " * Debug mode: on\n"
     ]
    },
    {
     "name": "stderr",
     "output_type": "stream",
     "text": [
      " * Restarting with stat\n"
     ]
    },
    {
     "ename": "SystemExit",
     "evalue": "1",
     "output_type": "error",
     "traceback": [
      "An exception has occurred, use %tb to see the full traceback.\n",
      "\u001b[1;31mSystemExit\u001b[0m\u001b[1;31m:\u001b[0m 1\n"
     ]
    }
   ],
   "source": [
    "if __name__ == '__main__':\n",
    "    app.run(debug=True)"
   ]
  }
 ],
 "metadata": {
  "kernelspec": {
   "display_name": "Python 3",
   "language": "python",
   "name": "python3"
  },
  "language_info": {
   "codemirror_mode": {
    "name": "ipython",
    "version": 3
   },
   "file_extension": ".py",
   "mimetype": "text/x-python",
   "name": "python",
   "nbconvert_exporter": "python",
   "pygments_lexer": "ipython3",
   "version": "3.7.4"
  }
 },
 "nbformat": 4,
 "nbformat_minor": 2
}
